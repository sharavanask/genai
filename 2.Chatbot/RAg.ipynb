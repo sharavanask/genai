{
  "nbformat": 4,
  "nbformat_minor": 0,
  "metadata": {
    "colab": {
      "provenance": [],
      "gpuType": "T4"
    },
    "kernelspec": {
      "name": "python3",
      "display_name": "Python 3"
    },
    "language_info": {
      "name": "python"
    },
    "accelerator": "GPU"
  },
  "cells": [
    {
      "cell_type": "code",
      "source": [
        "!pip install transformers sentence-transformers faiss-cpu\n"
      ],
      "metadata": {
        "colab": {
          "base_uri": "https://localhost:8080/"
        },
        "id": "TjkLlOEo3lGh",
        "outputId": "88094073-d271-4e50-c9a6-63caa38cc2e9"
      },
      "execution_count": 6,
      "outputs": [
        {
          "output_type": "stream",
          "name": "stdout",
          "text": [
            "Requirement already satisfied: transformers in /usr/local/lib/python3.10/dist-packages (4.46.2)\n",
            "Requirement already satisfied: sentence-transformers in /usr/local/lib/python3.10/dist-packages (3.2.1)\n",
            "Collecting faiss-cpu\n",
            "  Downloading faiss_cpu-1.9.0-cp310-cp310-manylinux_2_17_x86_64.manylinux2014_x86_64.whl.metadata (4.4 kB)\n",
            "Requirement already satisfied: filelock in /usr/local/lib/python3.10/dist-packages (from transformers) (3.16.1)\n",
            "Requirement already satisfied: huggingface-hub<1.0,>=0.23.2 in /usr/local/lib/python3.10/dist-packages (from transformers) (0.26.2)\n",
            "Requirement already satisfied: numpy>=1.17 in /usr/local/lib/python3.10/dist-packages (from transformers) (1.26.4)\n",
            "Requirement already satisfied: packaging>=20.0 in /usr/local/lib/python3.10/dist-packages (from transformers) (24.2)\n",
            "Requirement already satisfied: pyyaml>=5.1 in /usr/local/lib/python3.10/dist-packages (from transformers) (6.0.2)\n",
            "Requirement already satisfied: regex!=2019.12.17 in /usr/local/lib/python3.10/dist-packages (from transformers) (2024.9.11)\n",
            "Requirement already satisfied: requests in /usr/local/lib/python3.10/dist-packages (from transformers) (2.32.3)\n",
            "Requirement already satisfied: safetensors>=0.4.1 in /usr/local/lib/python3.10/dist-packages (from transformers) (0.4.5)\n",
            "Requirement already satisfied: tokenizers<0.21,>=0.20 in /usr/local/lib/python3.10/dist-packages (from transformers) (0.20.3)\n",
            "Requirement already satisfied: tqdm>=4.27 in /usr/local/lib/python3.10/dist-packages (from transformers) (4.66.6)\n",
            "Requirement already satisfied: torch>=1.11.0 in /usr/local/lib/python3.10/dist-packages (from sentence-transformers) (2.5.0+cu121)\n",
            "Requirement already satisfied: scikit-learn in /usr/local/lib/python3.10/dist-packages (from sentence-transformers) (1.5.2)\n",
            "Requirement already satisfied: scipy in /usr/local/lib/python3.10/dist-packages (from sentence-transformers) (1.13.1)\n",
            "Requirement already satisfied: Pillow in /usr/local/lib/python3.10/dist-packages (from sentence-transformers) (11.0.0)\n",
            "Requirement already satisfied: fsspec>=2023.5.0 in /usr/local/lib/python3.10/dist-packages (from huggingface-hub<1.0,>=0.23.2->transformers) (2024.10.0)\n",
            "Requirement already satisfied: typing-extensions>=3.7.4.3 in /usr/local/lib/python3.10/dist-packages (from huggingface-hub<1.0,>=0.23.2->transformers) (4.12.2)\n",
            "Requirement already satisfied: networkx in /usr/local/lib/python3.10/dist-packages (from torch>=1.11.0->sentence-transformers) (3.4.2)\n",
            "Requirement already satisfied: jinja2 in /usr/local/lib/python3.10/dist-packages (from torch>=1.11.0->sentence-transformers) (3.1.4)\n",
            "Requirement already satisfied: sympy==1.13.1 in /usr/local/lib/python3.10/dist-packages (from torch>=1.11.0->sentence-transformers) (1.13.1)\n",
            "Requirement already satisfied: mpmath<1.4,>=1.1.0 in /usr/local/lib/python3.10/dist-packages (from sympy==1.13.1->torch>=1.11.0->sentence-transformers) (1.3.0)\n",
            "Requirement already satisfied: charset-normalizer<4,>=2 in /usr/local/lib/python3.10/dist-packages (from requests->transformers) (3.4.0)\n",
            "Requirement already satisfied: idna<4,>=2.5 in /usr/local/lib/python3.10/dist-packages (from requests->transformers) (3.10)\n",
            "Requirement already satisfied: urllib3<3,>=1.21.1 in /usr/local/lib/python3.10/dist-packages (from requests->transformers) (2.2.3)\n",
            "Requirement already satisfied: certifi>=2017.4.17 in /usr/local/lib/python3.10/dist-packages (from requests->transformers) (2024.8.30)\n",
            "Requirement already satisfied: joblib>=1.2.0 in /usr/local/lib/python3.10/dist-packages (from scikit-learn->sentence-transformers) (1.4.2)\n",
            "Requirement already satisfied: threadpoolctl>=3.1.0 in /usr/local/lib/python3.10/dist-packages (from scikit-learn->sentence-transformers) (3.5.0)\n",
            "Requirement already satisfied: MarkupSafe>=2.0 in /usr/local/lib/python3.10/dist-packages (from jinja2->torch>=1.11.0->sentence-transformers) (3.0.2)\n",
            "Downloading faiss_cpu-1.9.0-cp310-cp310-manylinux_2_17_x86_64.manylinux2014_x86_64.whl (27.5 MB)\n",
            "\u001b[2K   \u001b[90m━━━━━━━━━━━━━━━━━━━━━━━━━━━━━━━━━━━━━━━━\u001b[0m \u001b[32m27.5/27.5 MB\u001b[0m \u001b[31m51.8 MB/s\u001b[0m eta \u001b[36m0:00:00\u001b[0m\n",
            "\u001b[?25hInstalling collected packages: faiss-cpu\n",
            "Successfully installed faiss-cpu-1.9.0\n"
          ]
        }
      ]
    },
    {
      "cell_type": "code",
      "source": [
        "from sentence_transformers import SentenceTransformer\n",
        "import faiss\n",
        "import numpy as np\n",
        "\n",
        "# Sample knowledge base documents\n",
        "documents = [\n",
        "    \"Vijay's full name is Joseph Vijay Chandrasekhar.\",\n",
        "    \"He is fondly called 'Thalapathy' by his fans.\",\n",
        "    \"Vijay was born on June 22, 1974, in Chennai, Tamil Nadu.\",\n",
        "    \"His father, S. A. Chandrasekhar, is a filmmaker.\",\n",
        "    \"His mother, Shoba Chandrasekhar, is a playback singer.\",\n",
        "    \"Vijay made his acting debut as a child artist in 1984.\",\n",
        "    \"His first movie as a child artist was 'Vetri.'\",\n",
        "    \"Vijay's first lead role was in the film 'Naalaiya Theerpu' (1992).\",\n",
        "    \"'Poove Unakkaga' (1996) marked Vijay's first major success.\",\n",
        "    \"He is one of the highest-paid actors in India.\",\n",
        "    \"Vijay is known for his dancing skills in Tamil cinema.\",\n",
        "    \"His fan base extends beyond Tamil Nadu, reaching across the world.\",\n",
        "    \"Vijay is a recipient of multiple awards, including Tamil Nadu State Film Awards.\",\n",
        "    \"He has acted in over 60 films during his career.\",\n",
        "    \"Vijay is also known for his philanthropic activities.\",\n",
        "    \"He has been included in Forbes India's Celebrity 100 list multiple times.\",\n",
        "    \"Vijay completed his schooling at Balalok Matriculation Higher Secondary School in Chennai.\",\n",
        "    \"He discontinued his college education to pursue a career in acting.\",\n",
        "    \"He is married to Sangeetha Sornalingam since 1999.\",\n",
        "    \"The couple has two children, Jason Sanjay and Divya Saasha.\",\n",
        "    \"Vijay's son, Jason Sanjay, made a cameo appearance in the film 'Vettaikaaran.'\",\n",
        "    \"His daughter, Divya Saasha, appeared in 'Theri' as a cameo.\",\n",
        "    \"Vijay's movie 'Ghilli' (2004) was a blockbuster and a trendsetter.\",\n",
        "    \"He is often referred to as the 'Master of Mass.'\",\n",
        "    \"His movie 'Thuppakki' (2012) was a massive success and received critical acclaim.\",\n",
        "    \"Vijay's collaboration with A. R. Murugadoss has been highly successful.\",\n",
        "    \"'Kaththi' (2014) highlighted social issues and was a huge hit.\",\n",
        "    \"His film 'Mersal' (2017) addressed medical corruption and became a blockbuster.\",\n",
        "    \"'Mersal' was also Vijay's first movie to enter the ₹250 crore club.\",\n",
        "    \"Vijay's movie 'Bigil' (2019) was a sports drama and received positive reviews.\",\n",
        "    \"He played dual roles in 'Bigil,' including a women's football coach.\",\n",
        "    \"Vijay is known for delivering powerful dialogues in his films.\",\n",
        "    \"His fans celebrate his birthday as a festival every year.\",\n",
        "    \"Vijay is often compared to Superstar Rajinikanth for his mass appeal.\",\n",
        "    \"His movie 'Sarkar' (2018) dealt with voter rights and election issues.\",\n",
        "    \"Vijay's 'Master' (2021) became one of the first blockbusters post-pandemic.\",\n",
        "    \"He shared screen space with Vijay Sethupathi in 'Master.'\",\n",
        "    \"Vijay's movie 'Varisu' (2023) was a family entertainer.\",\n",
        "    \"He is also an accomplished playback singer.\",\n",
        "    \"Vijay has sung hit songs like 'Google Google' and 'Vaathi Coming.'\",\n",
        "    \"His movies are known for their strong social messages.\",\n",
        "    \"Vijay has a wax statue at Madame Tussauds in Singapore.\",\n",
        "    \"He is one of the most-followed South Indian actors on social media.\",\n",
        "    \"Vijay is known for his humble and grounded nature.\",\n",
        "    \"He has won three Tamil Nadu State Film Special Prize awards.\",\n",
        "    \"Vijay has a massive fan following in Kerala, often called the 'Ilayathalapathy of Kerala.'\",\n",
        "    \"His fans organize charity events on his birthday each year.\",\n",
        "    \"Vijay's 'Theri' (2016) was a huge commercial success.\",\n",
        "    \"He played a triple role in the movie 'Mersal.'\",\n",
        "    \"Vijay was listed among the most influential celebrities in India by Forbes.\",\n",
        "    \"His movie 'Nanban' (2012) was a remake of '3 Idiots' and was well-received.\",\n",
        "    \"Vijay has consistently delivered hit movies in his career.\",\n",
        "    \"His film 'Kushi' (2000) became a romantic cult classic.\",\n",
        "    \"Vijay's fan club network is one of the largest in Tamil Nadu.\",\n",
        "    \"He has worked with many leading directors in Tamil cinema.\",\n",
        "    \"Vijay's dance numbers are celebrated for their energetic choreography.\",\n",
        "    \"He has collaborated with music director A. R. Rahman on multiple projects.\",\n",
        "    \"Vijay's movie trailers often set new records for views on YouTube.\",\n",
        "    \"He has inspired many young actors in the Tamil film industry.\",\n",
        "    \"Vijay has appeared in several commercials for popular brands.\",\n",
        "    \"He is known for maintaining his personal life away from the limelight.\",\n",
        "    \"Vijay's fans refer to him as a role model for his philanthropic efforts.\",\n",
        "    \"His movie 'Vettaikaaran' featured him as a struggling student.\",\n",
        "    \"Vijay's films often feature strong female leads.\",\n",
        "    \"He has a massive fan base in Sri Lanka and the Middle East.\",\n",
        "    \"His movie 'Velayudham' was a commercial hit with a superhero theme.\",\n",
        "    \"Vijay has won eight Vijay Awards during his career.\",\n",
        "    \"His film 'Kaavalan' (2011) was a turning point in his career.\",\n",
        "    \"Vijay's role in 'Thuppakki' as an army officer was widely appreciated.\",\n",
        "    \"He is known for his stylish and charismatic screen presence.\",\n",
        "    \"Vijay has acted alongside several leading heroines in Indian cinema.\",\n",
        "    \"His movie 'Puli' (2015) featured fantasy elements and grand visuals.\",\n",
        "    \"Vijay's 'Mersal' was the highest-grossing Tamil movie of 2017.\",\n",
        "]\n",
        "\n",
        "\n",
        "# Load SentenceTransformer model for embeddings\n",
        "embedding_model = SentenceTransformer('sentence-transformers/all-MiniLM-L6-v2')\n",
        "\n",
        "# Generate embeddings for the documents\n",
        "doc_embeddings = embedding_model.encode(documents)\n",
        "\n",
        "# Create FAISS index for similarity search\n",
        "dimension = doc_embeddings.shape[1]\n",
        "index = faiss.IndexFlatL2(dimension)\n",
        "index.add(np.array(doc_embeddings))\n"
      ],
      "metadata": {
        "id": "IFrmunB56uyI"
      },
      "execution_count": 40,
      "outputs": []
    },
    {
      "cell_type": "code",
      "source": [
        "# # Load the contents of the text file\n",
        "# with open(\"dhoni.txt\", \"r\", encoding=\"utf-8\") as file:\n",
        "#     document_content = file.read()\n",
        "\n",
        "# # Split the document into smaller chunks\n",
        "# from sentence_transformers import SentenceTransformer\n",
        "# from langchain_text_splitters import RecursiveCharacterTextSplitter\n",
        "\n",
        "# text_splitter = RecursiveCharacterTextSplitter(chunk_size=1000, chunk_overlap=200)\n",
        "# document_chunks = text_splitter.split_text(document_content)\n"
      ],
      "metadata": {
        "id": "24OE3Zl_7bzd"
      },
      "execution_count": 18,
      "outputs": []
    },
    {
      "cell_type": "code",
      "source": [
        "# # Load SentenceTransformer model for embedding\n",
        "# embedding_model = SentenceTransformer('sentence-transformers/all-MiniLM-L6-v2')\n",
        "\n",
        "# # Generate embeddings for each chunk\n",
        "# chunk_embeddings = embedding_model.encode(document_chunks)\n",
        "\n",
        "# # Create FAISS index for retrieval\n",
        "# import faiss\n",
        "# dimension = chunk_embeddings.shape[1]\n",
        "# index = faiss.IndexFlatL2(dimension)\n",
        "# index.add(np.array(chunk_embeddings))\n"
      ],
      "metadata": {
        "id": "4WjFOg5y73at"
      },
      "execution_count": 19,
      "outputs": []
    },
    {
      "cell_type": "code",
      "source": [
        "def retrieve(query, top_k=2):\n",
        "    query_embedding = embedding_model.encode([query])\n",
        "    distances, indices = index.search(np.array(query_embedding), top_k)\n",
        "    return [documents[i] for i in indices[0]]\n"
      ],
      "metadata": {
        "id": "5V0CKoi7374S"
      },
      "execution_count": 41,
      "outputs": []
    },
    {
      "cell_type": "code",
      "source": [
        "# Load GPT-2 model and tokenizer\n",
        "generator_model = GPT2LMHeadModel.from_pretrained('gpt2').to(\"cuda\")  # Move model to GPU\n",
        "tokenizer = GPT2Tokenizer.from_pretrained('gpt2')\n",
        "\n",
        "# Define a function to generate responses\n",
        "def generate_response(context, query):\n",
        "    input_text = f\"Context: {context}\\nQuery: {query}\\nResponse:\"\n",
        "    inputs = tokenizer(input_text, return_tensors=\"pt\", max_length=512, truncation=True).to(\"cuda\")  # Ensure input tensors are on GPU\n",
        "    outputs = generator_model.generate(\n",
        "        **inputs,\n",
        "        max_length=100,\n",
        "        num_beams=3,\n",
        "        no_repeat_ngram_size=2,\n",
        "        early_stopping=True\n",
        "    )\n",
        "    response = tokenizer.decode(outputs[0], skip_special_tokens=True)\n",
        "    return response.split(\"Response:\")[-1].strip()\n",
        "\n"
      ],
      "metadata": {
        "id": "1Fwbyh0n4CdV"
      },
      "execution_count": 42,
      "outputs": []
    },
    {
      "cell_type": "code",
      "source": [],
      "metadata": {
        "id": "3QcSzBoD-0YX"
      },
      "execution_count": null,
      "outputs": []
    },
    {
      "cell_type": "code",
      "source": [
        "def chat_rag(query):\n",
        "    # Retrieve relevant documents\n",
        "    relevant_docs = retrieve(query, top_k=2)\n",
        "    context = \" \".join(relevant_docs)\n",
        "\n",
        "    # Generate a response using the context\n",
        "    response = generate_response(context, query)\n",
        "    return response\n",
        "\n"
      ],
      "metadata": {
        "id": "WwVPTqFj4M6w"
      },
      "execution_count": 43,
      "outputs": []
    },
    {
      "cell_type": "code",
      "source": [
        "print(\"Chatbot is ready! Type 'exit' to quit.\")\n",
        "while True:\n",
        "    user_input = input(\"You: \")\n",
        "    if user_input.lower() in [\"exit\", \"quit\"]:\n",
        "        print(\"Chatbot: Goodbye!\")\n",
        "        break\n",
        "    response = chat_rag(user_input)\n",
        "    print(f\"Chatbot: {response}\")\n",
        "\n"
      ],
      "metadata": {
        "colab": {
          "base_uri": "https://localhost:8080/"
        },
        "id": "2qh26vQx4ReP",
        "outputId": "8ddf78c8-2f8e-48b1-9205-43ea234aee27"
      },
      "execution_count": 44,
      "outputs": [
        {
          "name": "stdout",
          "output_type": "stream",
          "text": [
            "Chatbot is ready! Type 'exit' to quit.\n",
            "You: vijay\n"
          ]
        },
        {
          "output_type": "stream",
          "name": "stderr",
          "text": [
            "Setting `pad_token_id` to `eos_token_id`:None for open-end generation.\n"
          ]
        },
        {
          "name": "stdout",
          "output_type": "stream",
          "text": [
            "Chatbot: <http://www.washingtonpost.com/wp-dyn/content/article/2008/09/14/AR2000101.html>\n",
            "The following is a list of the most important people in the world who have contributed to the development of India's economy. They are listed alphabetically.\n",
            "You: Thalapathy vijay\n"
          ]
        },
        {
          "output_type": "stream",
          "name": "stderr",
          "text": [
            "Setting `pad_token_id` to `eos_token_id`:None for open-end generation.\n"
          ]
        },
        {
          "name": "stdout",
          "output_type": "stream",
          "text": [
            "Chatbot: The following query was made in response to your query. The following is a list of all queries that have been made to this website. If you have any queries, please let us know.\n",
            "You: theri\n"
          ]
        },
        {
          "output_type": "stream",
          "name": "stderr",
          "text": [
            "Setting `pad_token_id` to `eos_token_id`:None for open-end generation.\n"
          ]
        },
        {
          "name": "stdout",
          "output_type": "stream",
          "text": [
            "Chatbot: \"Theri\" is the name given to a character in the movie. It is a reference to the character of the same name. The word \"the\" in Sanskrit is used to describe a person or thing. In the film, the word is also used in a similar way\n",
            "You: thalpathy vijay\n"
          ]
        },
        {
          "output_type": "stream",
          "name": "stderr",
          "text": [
            "Setting `pad_token_id` to `eos_token_id`:None for open-end generation.\n"
          ]
        },
        {
          "name": "stdout",
          "output_type": "stream",
          "text": [
            "Chatbot: The following query was sent to the following URL: http://www.kerala.gov.in/news/article.aspx?articleid=1048\n",
            "Question: What is the name of the person who sent the query?\n",
            "You: vijay\n"
          ]
        },
        {
          "output_type": "stream",
          "name": "stderr",
          "text": [
            "Setting `pad_token_id` to `eos_token_id`:None for open-end generation.\n"
          ]
        },
        {
          "name": "stdout",
          "output_type": "stream",
          "text": [
            "Chatbot: <http://www.washingtonpost.com/wp-dyn/content/article/2008/09/14/AR2000101.html>\n",
            "The following is a list of the most important people in the world who have contributed to the development of India's economy. They are listed alphabetically.\n",
            "You: who is thalapathy vijay\n"
          ]
        },
        {
          "output_type": "stream",
          "name": "stderr",
          "text": [
            "Setting `pad_token_id` to `eos_token_id`:None for open-end generation.\n"
          ]
        },
        {
          "name": "stdout",
          "output_type": "stream",
          "text": [
            "Chatbot: This question was submitted by a member of the public. The information in this question has not been evaluated by the staff of The Hindu.\n",
            "You: thuppaki\n"
          ]
        },
        {
          "output_type": "stream",
          "name": "stderr",
          "text": [
            "Setting `pad_token_id` to `eos_token_id`:None for open-end generation.\n"
          ]
        },
        {
          "name": "stdout",
          "output_type": "stream",
          "text": [
            "Chatbot: I am not sure if you are aware of the fact that the movie is based on the story of a young man who is sent to a war zone by his father to fight in the war against the enemy. The story is told in a way that\n",
            "You: dhoni\n"
          ]
        },
        {
          "output_type": "stream",
          "name": "stderr",
          "text": [
            "Setting `pad_token_id` to `eos_token_id`:None for open-end generation.\n"
          ]
        },
        {
          "name": "stdout",
          "output_type": "stream",
          "text": [
            "Chatbot: Question: What is the most important thing you want to say to the people of India?\n",
            "Answer: I want them to know that I am not the only one who is doing this. I have been doing it for a long time, and I will continue to do it until the end of time. It is\n",
            "You: modi\n"
          ]
        },
        {
          "output_type": "stream",
          "name": "stderr",
          "text": [
            "Setting `pad_token_id` to `eos_token_id`:None for open-end generation.\n"
          ]
        },
        {
          "name": "stdout",
          "output_type": "stream",
          "text": [
            "Chatbot: Modi's film 'Krishna' is a movie about a woman who is forced to choose between her husband and her children. The film is based on the story of a young girl who has been forced into marriage by her father. She is\n",
            "You: kolllywood\n"
          ]
        },
        {
          "output_type": "stream",
          "name": "stderr",
          "text": [
            "Setting `pad_token_id` to `eos_token_id`:None for open-end generation.\n"
          ]
        },
        {
          "output_type": "stream",
          "name": "stdout",
          "text": [
            "Chatbot: Question: What is your relationship to the media?\n",
            "Answer: I am a journalist. I have been involved in media for over 20 years. My main job is to report on the news, and I do not have a lot of time to write about it. However, I love to\n",
            "You: exit\n",
            "Chatbot: Goodbye!\n"
          ]
        }
      ]
    }
  ]
}